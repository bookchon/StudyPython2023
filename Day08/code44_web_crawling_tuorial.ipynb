{
 "cells": [
  {
   "attachments": {},
   "cell_type": "markdown",
   "metadata": {},
   "source": [
    "## 웹 크롤링\n",
    "\n",
    "### 인터넷 접속 라이브러리 추가\n",
    "\n",
    "- urllib.request 모듈로 작업\n",
    "- html 소스 로드로 별다른 문제 없음"
   ]
  },
  {
   "cell_type": "code",
   "execution_count": 11,
   "metadata": {},
   "outputs": [
    {
     "name": "stdout",
     "output_type": "stream",
     "text": [
      "부산의 현재 기온은 7.1˚c 입니다.\n",
      "부산의 현재 습도는 41% 입니다.\n"
     ]
    }
   ],
   "source": [
    "from urllib.request import urlopen, Request\n",
    "\n",
    "# 도시 별 날씨 검색함수\n",
    "def get_weather(city):\n",
    "    # 기상청 홈페이지 도시별 날씨 페이지\n",
    "    url = 'https://www.weather.go.kr/w/obs-climate/land/city-obs.do'\n",
    "    page = urlopen(url=url)\n",
    "\n",
    "    text = page.read().decode('utf-8')\n",
    "    text = text[text.find(f\">{city}</a>\"):]\n",
    "\n",
    "    # 기온 가져오기\n",
    "    for i in range(7):\n",
    "        text = text[text.find('<td>')+1:]\n",
    "\n",
    "    start = 3\n",
    "    end = text.find('</td>')\n",
    "    current_temp = (text[start:end])\n",
    "    print(f'{city}의 현재 기온은 {current_temp}˚c 입니다.')\n",
    "\n",
    "    # 습도 가져오기\n",
    "    for i in range(3):\n",
    "        text = text[text.find('<td>')+1:]\n",
    "\n",
    "    start = 3\n",
    "    end = text.find('</td>')\n",
    "    current_humid = (text[start:end])\n",
    "    print(f'{city}의 현재 습도는 {current_humid}% 입니다.')\n",
    "\n",
    "get_weather('부산')"
   ]
  },
  {
   "attachments": {},
   "cell_type": "markdown",
   "metadata": {},
   "source": [
    "### OPEN API 크롤링\n",
    "\n",
    "- 공공 데이터 포털\n",
    "    - https://www.data.go.kr/index.do\n",
    "    - 부산광역시 버스정보안내기 현황\n",
    "\n",
    "``` python\n",
    "    response = requests.get(total_url, verify=False)\n",
    "```\n",
    "- 문제점\n",
    "    - https를 일반 request로 부르면 SSL오류 발생\n",
    "    - 해결하려면 외부모듈 requests를 사용, verify = False 옵션을 추가로 지정해야 문제가 해결 됨\n",
    "    - 아래 셀의 19번 라인"
   ]
  },
  {
   "cell_type": "code",
   "execution_count": 30,
   "metadata": {},
   "outputs": [
    {
     "name": "stdout",
     "output_type": "stream",
     "text": [
      "찾는 데이터가 없습니다.\n"
     ]
    },
    {
     "name": "stderr",
     "output_type": "stream",
     "text": [
      "c:\\Source\\StudyPython2023\\venv\\Lib\\site-packages\\urllib3\\connectionpool.py:1045: InsecureRequestWarning: Unverified HTTPS request is being made to host 'apis.data.go.kr'. Adding certificate verification is strongly advised. See: https://urllib3.readthedocs.io/en/1.26.x/advanced-usage.html#ssl-warnings\n",
      "  warnings.warn(\n"
     ]
    }
   ],
   "source": [
    "import requests\n",
    "from urllib.parse import quote, unquote, urlencode # 한글을 URLencode 변환하는 함수\n",
    "import json\n",
    "\n",
    "# staitionName 정류소 이름\n",
    "def getDataPortalSearch(stationName, type):\n",
    "    api_url = 'https://apis.data.go.kr/6260000/BusanTblBusinfoeqStusService/getTblBusinfoeqStusInfo'\n",
    "    queryString = \"?\" + urlencode(\n",
    "        {\n",
    "            'servicekey' : 'yR+IgD8xUGGLPLv5yhXB/1N8mrSZZShOsMcBdKjRIHdtT2R1/DttqVn95bmWMWkbyEbcz/J8qqJaoq5sRLTbbw==',\n",
    "            'pageNumber' : \"1\",\n",
    "            'numOfRows' : '10',\n",
    "            'resultType' : type,\n",
    "            'stationLoc' : stationName \n",
    "        }\n",
    "    )\n",
    "\n",
    "    total_url = api_url + queryString\n",
    "    response = requests.get(total_url, verify=False)\n",
    "    return response.text\n",
    "try:\n",
    "    result = getDataPortalSearch('신세계', 'json')\n",
    "    json_data = json.loads(result)\n",
    "    station_data = json_data['getTblBusinfoeqStusInfo']['body']['items']['item']\n",
    "\n",
    "\n",
    "    for item in station_data:\n",
    "        print(item)\n",
    "except Exception as e:\n",
    "    print('찾는 데이터가 없습니다.')"
   ]
  },
  {
   "cell_type": "markdown",
   "metadata": {},
   "source": [
    "###"
   ]
  },
  {
   "attachments": {},
   "cell_type": "markdown",
   "metadata": {},
   "source": [
    "### OpenAPI로 가져온 데이터 지도 표시\n",
    "\n",
    "``` python\n",
    "stop_str = '<h4>' + item['stationLoc'] + '</h4>' + item['stationNum'] + '<br>' + item['addr']\n",
    "```\n",
    "\n",
    "- 문제점\n",
    "    - 딕셔너리 구조하고 문자열 포맷팅 f'{}' 호환 되지 않음\n",
    "    - 구식 방법인 문자열 결합방식으로 해결해야 함"
   ]
  },
  {
   "cell_type": "code",
   "execution_count": 52,
   "metadata": {},
   "outputs": [
    {
     "name": "stdout",
     "output_type": "stream",
     "text": [
      "35.16967324 129.1317843\n"
     ]
    },
    {
     "data": {
      "text/html": [
       "<div style=\"width:100%;\"><div style=\"position:relative;width:100%;height:0;padding-bottom:60%;\"><span style=\"color:#565656\">Make this Notebook Trusted to load map: File -> Trust Notebook</span><iframe srcdoc=\"&lt;!DOCTYPE html&gt;\n",
       "&lt;html&gt;\n",
       "&lt;head&gt;\n",
       "    \n",
       "    &lt;meta http-equiv=&quot;content-type&quot; content=&quot;text/html; charset=UTF-8&quot; /&gt;\n",
       "    \n",
       "        &lt;script&gt;\n",
       "            L_NO_TOUCH = false;\n",
       "            L_DISABLE_3D = false;\n",
       "        &lt;/script&gt;\n",
       "    \n",
       "    &lt;style&gt;html, body {width: 100%;height: 100%;margin: 0;padding: 0;}&lt;/style&gt;\n",
       "    &lt;style&gt;#map {position:absolute;top:0;bottom:0;right:0;left:0;}&lt;/style&gt;\n",
       "    &lt;script src=&quot;https://cdn.jsdelivr.net/npm/leaflet@1.9.3/dist/leaflet.js&quot;&gt;&lt;/script&gt;\n",
       "    &lt;script src=&quot;https://code.jquery.com/jquery-1.12.4.min.js&quot;&gt;&lt;/script&gt;\n",
       "    &lt;script src=&quot;https://cdn.jsdelivr.net/npm/bootstrap@5.2.2/dist/js/bootstrap.bundle.min.js&quot;&gt;&lt;/script&gt;\n",
       "    &lt;script src=&quot;https://cdnjs.cloudflare.com/ajax/libs/Leaflet.awesome-markers/2.0.2/leaflet.awesome-markers.js&quot;&gt;&lt;/script&gt;\n",
       "    &lt;link rel=&quot;stylesheet&quot; href=&quot;https://cdn.jsdelivr.net/npm/leaflet@1.9.3/dist/leaflet.css&quot;/&gt;\n",
       "    &lt;link rel=&quot;stylesheet&quot; href=&quot;https://cdn.jsdelivr.net/npm/bootstrap@5.2.2/dist/css/bootstrap.min.css&quot;/&gt;\n",
       "    &lt;link rel=&quot;stylesheet&quot; href=&quot;https://netdna.bootstrapcdn.com/bootstrap/3.0.0/css/bootstrap.min.css&quot;/&gt;\n",
       "    &lt;link rel=&quot;stylesheet&quot; href=&quot;https://cdn.jsdelivr.net/npm/@fortawesome/fontawesome-free@6.2.0/css/all.min.css&quot;/&gt;\n",
       "    &lt;link rel=&quot;stylesheet&quot; href=&quot;https://cdnjs.cloudflare.com/ajax/libs/Leaflet.awesome-markers/2.0.2/leaflet.awesome-markers.css&quot;/&gt;\n",
       "    &lt;link rel=&quot;stylesheet&quot; href=&quot;https://cdn.jsdelivr.net/gh/python-visualization/folium/folium/templates/leaflet.awesome.rotate.min.css&quot;/&gt;\n",
       "    \n",
       "            &lt;meta name=&quot;viewport&quot; content=&quot;width=device-width,\n",
       "                initial-scale=1.0, maximum-scale=1.0, user-scalable=no&quot; /&gt;\n",
       "            &lt;style&gt;\n",
       "                #map_bf2c2204d093642fd84497db36dc2357 {\n",
       "                    position: relative;\n",
       "                    width: 100.0%;\n",
       "                    height: 100.0%;\n",
       "                    left: 0.0%;\n",
       "                    top: 0.0%;\n",
       "                }\n",
       "                .leaflet-container { font-size: 1rem; }\n",
       "            &lt;/style&gt;\n",
       "        \n",
       "&lt;/head&gt;\n",
       "&lt;body&gt;\n",
       "    \n",
       "    \n",
       "            &lt;div class=&quot;folium-map&quot; id=&quot;map_bf2c2204d093642fd84497db36dc2357&quot; &gt;&lt;/div&gt;\n",
       "        \n",
       "&lt;/body&gt;\n",
       "&lt;script&gt;\n",
       "    \n",
       "    \n",
       "            var map_bf2c2204d093642fd84497db36dc2357 = L.map(\n",
       "                &quot;map_bf2c2204d093642fd84497db36dc2357&quot;,\n",
       "                {\n",
       "                    center: [35.16967324, 129.1317843],\n",
       "                    crs: L.CRS.EPSG3857,\n",
       "                    zoom: 13,\n",
       "                    zoomControl: true,\n",
       "                    preferCanvas: false,\n",
       "                }\n",
       "            );\n",
       "\n",
       "            \n",
       "\n",
       "        \n",
       "    \n",
       "            var tile_layer_8381b9626e0c241df0517a50094d6d1e = L.tileLayer(\n",
       "                &quot;https://{s}.tile.openstreetmap.org/{z}/{x}/{y}.png&quot;,\n",
       "                {&quot;attribution&quot;: &quot;Data by \\u0026copy; \\u003ca target=\\&quot;_blank\\&quot; href=\\&quot;http://openstreetmap.org\\&quot;\\u003eOpenStreetMap\\u003c/a\\u003e, under \\u003ca target=\\&quot;_blank\\&quot; href=\\&quot;http://www.openstreetmap.org/copyright\\&quot;\\u003eODbL\\u003c/a\\u003e.&quot;, &quot;detectRetina&quot;: false, &quot;maxNativeZoom&quot;: 18, &quot;maxZoom&quot;: 18, &quot;minZoom&quot;: 0, &quot;noWrap&quot;: false, &quot;opacity&quot;: 1, &quot;subdomains&quot;: &quot;abc&quot;, &quot;tms&quot;: false}\n",
       "            ).addTo(map_bf2c2204d093642fd84497db36dc2357);\n",
       "        \n",
       "    \n",
       "            var marker_82dcc462be5725b69350245c1949c66c = L.marker(\n",
       "                [35.16967324, 129.1317843],\n",
       "                {}\n",
       "            ).addTo(map_bf2c2204d093642fd84497db36dc2357);\n",
       "        \n",
       "    \n",
       "            var icon_357921ba1c70c85e79e62021580525f6 = L.AwesomeMarkers.icon(\n",
       "                {&quot;extraClasses&quot;: &quot;fa-rotate-0&quot;, &quot;icon&quot;: &quot;pushpin&quot;, &quot;iconColor&quot;: &quot;white&quot;, &quot;markerColor&quot;: &quot;blue&quot;, &quot;prefix&quot;: &quot;glyphicon&quot;}\n",
       "            );\n",
       "            marker_82dcc462be5725b69350245c1949c66c.setIcon(icon_357921ba1c70c85e79e62021580525f6);\n",
       "        \n",
       "    \n",
       "        var popup_6c8dc97843692b623c834e6614646cf0 = L.popup({&quot;maxWidth&quot;: 200, &quot;minWidth&quot;: 200});\n",
       "\n",
       "        \n",
       "            \n",
       "                var i_frame_f8d6f91d43cb0cb1008c21ff7e20e7fa = $(`&lt;div style=&quot;width:100%;&quot;&gt;&lt;div style=&quot;position:relative;width:100%;height:0;padding-bottom:60%;&quot;&gt;&lt;iframe src=&quot;data:text/html;charset=utf-8;base64,CiAgICA8aDQ+66Gv642w67Cx7ZmU7KCQ7IS87YWA7Iuc7Yuw7KCQPC9oND4wOTI4Mzxicj7tlbTsmrTrjIDqtawg7Jqw64+ZIDE0OTY=&quot; style=&quot;position:absolute;width:100%;height:100%;left:0;top:0;border:none !important;&quot;&gt;&lt;/iframe&gt;&lt;/div&gt;&lt;/div&gt;`)[0];\n",
       "                popup_6c8dc97843692b623c834e6614646cf0.setContent(i_frame_f8d6f91d43cb0cb1008c21ff7e20e7fa);\n",
       "            \n",
       "        \n",
       "\n",
       "        marker_82dcc462be5725b69350245c1949c66c.bindPopup(popup_6c8dc97843692b623c834e6614646cf0)\n",
       "        ;\n",
       "\n",
       "        \n",
       "    \n",
       "    \n",
       "            var marker_236e06caef22b126306fffc5a8862a03 = L.marker(\n",
       "                [35.16997953, 129.1320357],\n",
       "                {}\n",
       "            ).addTo(map_bf2c2204d093642fd84497db36dc2357);\n",
       "        \n",
       "    \n",
       "            var icon_1d79f8786ee2e8120a0f8a8fbc308a80 = L.AwesomeMarkers.icon(\n",
       "                {&quot;extraClasses&quot;: &quot;fa-rotate-0&quot;, &quot;icon&quot;: &quot;pushpin&quot;, &quot;iconColor&quot;: &quot;white&quot;, &quot;markerColor&quot;: &quot;blue&quot;, &quot;prefix&quot;: &quot;glyphicon&quot;}\n",
       "            );\n",
       "            marker_236e06caef22b126306fffc5a8862a03.setIcon(icon_1d79f8786ee2e8120a0f8a8fbc308a80);\n",
       "        \n",
       "    \n",
       "        var popup_fb2ac9d52585173466486287badf6d2e = L.popup({&quot;maxWidth&quot;: 200, &quot;minWidth&quot;: 200});\n",
       "\n",
       "        \n",
       "            \n",
       "                var i_frame_13701b6fb9834401290d3d1a103a04c9 = $(`&lt;div style=&quot;width:100%;&quot;&gt;&lt;div style=&quot;position:relative;width:100%;height:0;padding-bottom:60%;&quot;&gt;&lt;iframe src=&quot;data:text/html;charset=utf-8;base64,CiAgICA8aDQ+66Gv642w67Cx7ZmU7KCQ7IS87YWA7Iuc7Yuw7KCQPC9oND4wOTMzNjxicj7tlbTsmrTrjIDqtawg7Jqw64+ZIDE0OTg=&quot; style=&quot;position:absolute;width:100%;height:100%;left:0;top:0;border:none !important;&quot;&gt;&lt;/iframe&gt;&lt;/div&gt;&lt;/div&gt;`)[0];\n",
       "                popup_fb2ac9d52585173466486287badf6d2e.setContent(i_frame_13701b6fb9834401290d3d1a103a04c9);\n",
       "            \n",
       "        \n",
       "\n",
       "        marker_236e06caef22b126306fffc5a8862a03.bindPopup(popup_fb2ac9d52585173466486287badf6d2e)\n",
       "        ;\n",
       "\n",
       "        \n",
       "    \n",
       "    \n",
       "            var marker_c699d552e0fd71f578c185171d2c2fcb = L.marker(\n",
       "                [35.21276314, 129.0781263],\n",
       "                {}\n",
       "            ).addTo(map_bf2c2204d093642fd84497db36dc2357);\n",
       "        \n",
       "    \n",
       "            var icon_0e4924c974d6a2effa61ab0ed6f32790 = L.AwesomeMarkers.icon(\n",
       "                {&quot;extraClasses&quot;: &quot;fa-rotate-0&quot;, &quot;icon&quot;: &quot;pushpin&quot;, &quot;iconColor&quot;: &quot;white&quot;, &quot;markerColor&quot;: &quot;blue&quot;, &quot;prefix&quot;: &quot;glyphicon&quot;}\n",
       "            );\n",
       "            marker_c699d552e0fd71f578c185171d2c2fcb.setIcon(icon_0e4924c974d6a2effa61ab0ed6f32790);\n",
       "        \n",
       "    \n",
       "        var popup_488a4d071833f422317dbb5946603a5e = L.popup({&quot;maxWidth&quot;: 200, &quot;minWidth&quot;: 200});\n",
       "\n",
       "        \n",
       "            \n",
       "                var i_frame_de0b9b2f69a4d2a1347b311da5d23852 = $(`&lt;div style=&quot;width:100%;&quot;&gt;&lt;div style=&quot;position:relative;width:100%;height:0;padding-bottom:60%;&quot;&gt;&lt;iframe src=&quot;data:text/html;charset=utf-8;base64,CiAgICA8aDQ+66Gv642w67Cx7ZmU7KCQ64+Z656Y7KCQLuuqheulnOyXrTwvaDQ+MDYwMzA8YnI+64+Z656Y6rWsIOyYqOyynDHrj5kgNDc0LTI1&quot; style=&quot;position:absolute;width:100%;height:100%;left:0;top:0;border:none !important;&quot;&gt;&lt;/iframe&gt;&lt;/div&gt;&lt;/div&gt;`)[0];\n",
       "                popup_488a4d071833f422317dbb5946603a5e.setContent(i_frame_de0b9b2f69a4d2a1347b311da5d23852);\n",
       "            \n",
       "        \n",
       "\n",
       "        marker_c699d552e0fd71f578c185171d2c2fcb.bindPopup(popup_488a4d071833f422317dbb5946603a5e)\n",
       "        ;\n",
       "\n",
       "        \n",
       "    \n",
       "    \n",
       "            var marker_a9a8883b23b1680057246bf0c7d413f0 = L.marker(\n",
       "                [35.2101971, 129.0778307],\n",
       "                {}\n",
       "            ).addTo(map_bf2c2204d093642fd84497db36dc2357);\n",
       "        \n",
       "    \n",
       "            var icon_569cb3ac4c8f644aac830fa5fa3aa4f1 = L.AwesomeMarkers.icon(\n",
       "                {&quot;extraClasses&quot;: &quot;fa-rotate-0&quot;, &quot;icon&quot;: &quot;pushpin&quot;, &quot;iconColor&quot;: &quot;white&quot;, &quot;markerColor&quot;: &quot;blue&quot;, &quot;prefix&quot;: &quot;glyphicon&quot;}\n",
       "            );\n",
       "            marker_a9a8883b23b1680057246bf0c7d413f0.setIcon(icon_569cb3ac4c8f644aac830fa5fa3aa4f1);\n",
       "        \n",
       "    \n",
       "        var popup_e4aaae3f085364db7e8dc8af6ee6bf64 = L.popup({&quot;maxWidth&quot;: 200, &quot;minWidth&quot;: 200});\n",
       "\n",
       "        \n",
       "            \n",
       "                var i_frame_32be81e891b5445515c9b9fe310037f7 = $(`&lt;div style=&quot;width:100%;&quot;&gt;&lt;div style=&quot;position:relative;width:100%;height:0;padding-bottom:60%;&quot;&gt;&lt;iframe src=&quot;data:text/html;charset=utf-8;base64,CiAgICA8aDQ+66Gv642w67Cx7ZmU7KCQ64+Z656Y7KCQPC9oND4wNjA0Njxicj7rj5nrnpjqtawg7Jio7LKcMuuPmSA1MDMtNDY=&quot; style=&quot;position:absolute;width:100%;height:100%;left:0;top:0;border:none !important;&quot;&gt;&lt;/iframe&gt;&lt;/div&gt;&lt;/div&gt;`)[0];\n",
       "                popup_e4aaae3f085364db7e8dc8af6ee6bf64.setContent(i_frame_32be81e891b5445515c9b9fe310037f7);\n",
       "            \n",
       "        \n",
       "\n",
       "        marker_a9a8883b23b1680057246bf0c7d413f0.bindPopup(popup_e4aaae3f085364db7e8dc8af6ee6bf64)\n",
       "        ;\n",
       "\n",
       "        \n",
       "    \n",
       "&lt;/script&gt;\n",
       "&lt;/html&gt;\" style=\"position:absolute;width:100%;height:100%;left:0;top:0;border:none !important;\" allowfullscreen webkitallowfullscreen mozallowfullscreen></iframe></div></div>"
      ],
      "text/plain": [
       "<folium.folium.Map at 0x281b101d390>"
      ]
     },
     "execution_count": 52,
     "metadata": {},
     "output_type": "execute_result"
    }
   ],
   "source": [
    "import folium\n",
    "\n",
    "if len(station_data) > 0: # 정류소 중 젱리 첫번째 인덱스 정류소 위경도를 중심으로\n",
    "    center_lat = station_data[0]['lat']\n",
    "    center_lng = station_data[0]['lng']\n",
    "    print(center_lat, center_lng)\n",
    "\n",
    "m = folium.Map(location=[center_lat, center_lng], zoom_start=13)\n",
    "\n",
    "# 전체 정류소 위치값 마커 표시\n",
    "for item in station_data:\n",
    "    stop_str = '<h4>' + item['stationLoc'] + '</h4>' + item['stationNum'] + '<br>' + item['addr']\n",
    "    iframe = folium.IFrame(stop_str)\n",
    "    popup = folium.Popup(iframe, min_width=200, max_width=200)\n",
    "\n",
    "    folium.Marker(location=[item['lat'], item['lng']], popup=popup,\n",
    "                  icon=folium.Icon(icon='pushpin')).add_to(m)\n",
    "\n",
    "m"
   ]
  },
  {
   "attachments": {},
   "cell_type": "markdown",
   "metadata": {},
   "source": [
    "### BeautifulSoup (version 4)\n",
    "\n",
    "웹 크롤링을 편하게 해주는 도구(라이브러리)\n",
    "\n",
    "```shell\n",
    "pip instiall beautifulsoup4\n",
    "```"
   ]
  },
  {
   "cell_type": "code",
   "execution_count": 32,
   "metadata": {},
   "outputs": [
    {
     "name": "stdout",
     "output_type": "stream",
     "text": [
      "Collecting beautifulsoup4\n",
      "  Downloading beautifulsoup4-4.11.2-py3-none-any.whl (129 kB)\n",
      "     -------------------------------------- 129.4/129.4 kB 3.8 MB/s eta 0:00:00\n",
      "Collecting soupsieve>1.2\n",
      "  Downloading soupsieve-2.3.2.post1-py3-none-any.whl (37 kB)\n",
      "Installing collected packages: soupsieve, beautifulsoup4\n",
      "Successfully installed beautifulsoup4-4.11.2 soupsieve-2.3.2.post1\n"
     ]
    },
    {
     "name": "stderr",
     "output_type": "stream",
     "text": [
      "\n",
      "[notice] A new release of pip available: 22.3.1 -> 23.0\n",
      "[notice] To update, run: python.exe -m pip install --upgrade pip\n"
     ]
    }
   ],
   "source": [
    "!pip install beautifulsoup4"
   ]
  },
  {
   "attachments": {},
   "cell_type": "markdown",
   "metadata": {},
   "source": [
    "#### 모듈 import\n",
    "\n",
    "``` python\n",
    "from bs4 import BeautifulSoup\n",
    "```"
   ]
  },
  {
   "cell_type": "code",
   "execution_count": 46,
   "metadata": {},
   "outputs": [
    {
     "name": "stdout",
     "output_type": "stream",
     "text": [
      "제임스웹 우주망원경 질문이요\n"
     ]
    }
   ],
   "source": [
    "import requests\n",
    "from bs4 import BeautifulSoup\n",
    "\n",
    "url = 'https://kin.naver.com/search/list.naver?query=%EC%A0%9C%EC%9E%84%EC%8A%A4+%EC%9B%B9+%EB%A7%9D%EC%9B%90%EA%B2%BD'\n",
    "response = requests.get(url)\n",
    "\n",
    "if response.status_code == 200:\n",
    "    html = response.text\n",
    "    soup = BeautifulSoup(html, 'html.parser')       # html로 보기 좋게 'html.parser'\n",
    "   # print(soup)\n",
    "    title = soup.select_one('#s_content > div.section > ul > li:nth-child(1) > dl > dt > a')\n",
    "    print(title.get_text())\n",
    "else:\n",
    "    print(f'Error : {response.status_code}')"
   ]
  },
  {
   "cell_type": "code",
   "execution_count": 51,
   "metadata": {},
   "outputs": [
    {
     "name": "stdout",
     "output_type": "stream",
     "text": [
      "제임스웹 우주망원경 질문이요\n",
      "최고고도 부탁드립니다. 제임스웹 망원경이\n",
      "제임스 웹 망원경 우주사진 원본 어디서... \n",
      "제임스 웹 망원경 촬영 원리\n",
      "제임스 웹 망원경\n",
      "제임스 웹 우주망원경이 찍은 첫 사진은... \n",
      "제임스 웹 망원경의 종류 알려주세요\n",
      "제임스 웹 우주망원경\n",
      "제임스웹 망원경\n",
      "제임스 웹 우주 망원경 제작 기간이\n"
     ]
    }
   ],
   "source": [
    "import requests\n",
    "from bs4 import BeautifulSoup\n",
    "\n",
    "url = 'https://kin.naver.com/search/list.naver?query=%EC%A0%9C%EC%9E%84%EC%8A%A4+%EC%9B%B9+%EB%A7%9D%EC%9B%90%EA%B2%BD'\n",
    "response = requests.get(url)\n",
    "\n",
    "if response.status_code == 200:\n",
    "    html = response.text\n",
    "    soup = BeautifulSoup(html, 'html.parser')       # html로 보기 좋게 'html.parser'\n",
    "    ul = soup.select_one('ul.basic1')\n",
    "    titles = ul.select('li > dl > dt > a')\n",
    "    for title in titles:\n",
    "        print(title.get_text())\n",
    "else:\n",
    "    print(f'Error : {response.status_code}')"
   ]
  }
 ],
 "metadata": {
  "kernelspec": {
   "display_name": "venv",
   "language": "python",
   "name": "python3"
  },
  "language_info": {
   "codemirror_mode": {
    "name": "ipython",
    "version": 3
   },
   "file_extension": ".py",
   "mimetype": "text/x-python",
   "name": "python",
   "nbconvert_exporter": "python",
   "pygments_lexer": "ipython3",
   "version": "3.11.1"
  },
  "orig_nbformat": 4,
  "vscode": {
   "interpreter": {
    "hash": "76ec27e2e5ff9a661d92f7ebc18ef3c877db7c94e99eee72e294ebeae604be14"
   }
  }
 },
 "nbformat": 4,
 "nbformat_minor": 2
}
