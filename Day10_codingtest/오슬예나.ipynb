{
 "cells": [
  {
   "attachments": {},
   "cell_type": "markdown",
   "metadata": {},
   "source": [
    "## 1번"
   ]
  },
  {
   "cell_type": "code",
   "execution_count": 7,
   "metadata": {},
   "outputs": [
    {
     "name": "stdout",
     "output_type": "stream",
     "text": [
      "원의 넓이:78.5398\n",
      "원의 넓이 : 9817.475\n",
      "원의 둘레 : 31.41592\n"
     ]
    }
   ],
   "source": [
    "r = float(input('반지름을 입력하세요 : '))\n",
    "print(f'원의 넓이: {r * r * 3.141592}')\n",
    "print(f'원의 넓이 : {r ** r * 3.141592}')\n",
    "print(f'원의 둘레 : {2 * r * 3.141592}')"
   ]
  },
  {
   "attachments": {},
   "cell_type": "markdown",
   "metadata": {},
   "source": [
    "# 2번"
   ]
  },
  {
   "cell_type": "code",
   "execution_count": 9,
   "metadata": {},
   "outputs": [
    {
     "name": "stdout",
     "output_type": "stream",
     "text": [
      "화성\n"
     ]
    }
   ],
   "source": [
    "sys1 = input(f'행성의 영어 이름을 입력하세요. : ')\n",
    "\n",
    "if sys1 == 'Mecury':\n",
    "    print('수성')\n",
    "elif sys1 == \"Venus\":\n",
    "    print('금성')\n",
    "elif sys1 == \"Earth\":\n",
    "    print('지구')\n",
    "elif sys1 == \"Mars\":\n",
    "    print(\"화성\")\n",
    "elif sys1 == \"Jupiter\":\n",
    "    print(\"목성\")\n",
    "elif sys1 == 'Saturn':\n",
    "    print(\"토성\")\n",
    "elif sys1 == \"Uranus\":\n",
    "    print(\"천왕성\")\n",
    "elif sys1 == \"Neptune\":\n",
    "    print(\"해왕성\")\n"
   ]
  },
  {
   "attachments": {},
   "cell_type": "markdown",
   "metadata": {},
   "source": [
    "## 3번"
   ]
  },
  {
   "cell_type": "code",
   "execution_count": 22,
   "metadata": {},
   "outputs": [
    {
     "name": "stdout",
     "output_type": "stream",
     "text": [
      "3\n",
      "HELLO\n",
      "!\n"
     ]
    }
   ],
   "source": [
    "sen = input(\"문자열을 입력하세요: \")\n",
    "print(len(sen.split(\" \")))\n",
    "\n",
    "upp = sen.split(\" \")\n",
    "\n",
    "for i in range(0, len(upp)):\n",
    "    if i % 2 == 0:\n",
    "        print(upp[i].upper())"
   ]
  },
  {
   "attachments": {},
   "cell_type": "markdown",
   "metadata": {},
   "source": [
    "## 4번"
   ]
  },
  {
   "cell_type": "code",
   "execution_count": 5,
   "metadata": {},
   "outputs": [
    {
     "name": "stdout",
     "output_type": "stream",
     "text": [
      "내용을 거꾸로 출력 --> \n"
     ]
    }
   ],
   "source": [
    "i_num,o_num = \"\",\"\"\n",
    "count,i = 0,0\n",
    "\n",
    "i_num = input(\"숫자를 입력하세요: \")\n",
    "count = len(i_num)\n",
    "\n",
    "for i in range(0,count):\n",
    "    o_num += i_num[count - (i+1)]\n",
    "\n",
    "print(\"내용을 거꾸로 출력 --> %s\"%o_num)"
   ]
  },
  {
   "attachments": {},
   "cell_type": "markdown",
   "metadata": {},
   "source": [
    "## 5번"
   ]
  },
  {
   "cell_type": "code",
   "execution_count": 11,
   "metadata": {},
   "outputs": [
    {
     "name": "stdout",
     "output_type": "stream",
     "text": [
      "4\n",
      "8\n",
      "12\n",
      "16\n",
      "20\n",
      "24\n",
      "28\n",
      "32\n",
      "36\n"
     ]
    }
   ],
   "source": [
    "if __name__ == \"__main__\":\n",
    "\n",
    "    num = int(input(\"2단부터 9단 사이의 단을 입력하세요 : \"))\n",
    "\n",
    "    while (num <2 or num > 9):\n",
    "        print(\"잘못 입력되었습니다.\")\n",
    "        num = int(input(\"2단부터 9단 사이의 단을 입력하세요 : \"))\n",
    "\n",
    "    for i in range(1, 10):\n",
    "        print(num * i)"
   ]
  }
 ],
 "metadata": {
  "kernelspec": {
   "display_name": "venv",
   "language": "python",
   "name": "python3"
  },
  "language_info": {
   "codemirror_mode": {
    "name": "ipython",
    "version": 3
   },
   "file_extension": ".py",
   "mimetype": "text/x-python",
   "name": "python",
   "nbconvert_exporter": "python",
   "pygments_lexer": "ipython3",
   "version": "3.11.1"
  },
  "orig_nbformat": 4,
  "vscode": {
   "interpreter": {
    "hash": "76ec27e2e5ff9a661d92f7ebc18ef3c877db7c94e99eee72e294ebeae604be14"
   }
  }
 },
 "nbformat": 4,
 "nbformat_minor": 2
}
