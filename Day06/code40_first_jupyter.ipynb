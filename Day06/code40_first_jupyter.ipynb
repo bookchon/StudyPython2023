{
 "cells": [
  {
   "attachments": {},
   "cell_type": "markdown",
   "metadata": {},
   "source": [
    "## 첫 번째 주피터 노트북"
   ]
  },
  {
   "cell_type": "code",
   "execution_count": null,
   "metadata": {},
   "outputs": [],
   "source": [
    "# 여기는 주석입니다.\n",
    "print('Hello, jupyter!')"
   ]
  },
  {
   "cell_type": "code",
   "execution_count": 6,
   "metadata": {},
   "outputs": [
    {
     "name": "stdout",
     "output_type": "stream",
     "text": [
      "0 출력\n",
      "1 출력\n",
      "2 출력\n",
      "3 출력\n",
      "4 출력\n",
      "5 출력\n",
      "6 출력\n",
      "7 출력\n",
      "8 출력\n",
      "9 출력\n"
     ]
    }
   ],
   "source": [
    "for i in range(10):\n",
    "    print(f'{i} 출력')"
   ]
  }
 ],
 "metadata": {
  "kernelspec": {
   "display_name": "venv",
   "language": "python",
   "name": "python3"
  },
  "language_info": {
   "codemirror_mode": {
    "name": "ipython",
    "version": 3
   },
   "file_extension": ".py",
   "mimetype": "text/x-python",
   "name": "python",
   "nbconvert_exporter": "python",
   "pygments_lexer": "ipython3",
   "version": "3.11.1"
  },
  "orig_nbformat": 4,
  "vscode": {
   "interpreter": {
    "hash": "76ec27e2e5ff9a661d92f7ebc18ef3c877db7c94e99eee72e294ebeae604be14"
   }
  }
 },
 "nbformat": 4,
 "nbformat_minor": 2
}
